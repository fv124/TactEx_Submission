{
 "cells": [
  {
   "cell_type": "markdown",
   "id": "e07704d3",
   "metadata": {},
   "source": [
    "This is the code for data collection, we refer to the paper for the overview. In short, we do this in following way:\n",
    "- The gelsight mini is mounted at the end effector of the robot\n",
    "- An object is placed under the robot, such that the robot can touch the object from the top\n",
    "- We drop the end effector 1 mm at a time. When a threshold in both the SSIM and Marker Displacement has passed, contact is detected\n",
    "- From contact, we take 8 images at equally positioned depths of 0.25mm, untill the end effector reaches 2mm under the contact detection height\n",
    "- The above procedure is repeated 40 times per object, with varying yaw and position for more robust and varying data"
   ]
  },
  {
   "cell_type": "markdown",
   "id": "de42ad6f",
   "metadata": {},
   "source": [
    "# 1) Import Packages and Set Directories for Data"
   ]
  },
  {
   "cell_type": "code",
   "execution_count": null,
   "id": "58d2f757",
   "metadata": {},
   "outputs": [],
   "source": [
    "import time\n",
    "import os\n",
    "import random\n",
    "import csv\n",
    "from xarm.wrapper import XArmAPI\n",
    "from skimage.metrics import structural_similarity as ssim\n",
    "import cv2\n",
    "import numpy as np\n",
    "from scipy.optimize import linear_sum_assignment\n",
    "from scipy.spatial.distance import cdist\n",
    "import matplotlib.pyplot as plt"
   ]
  },
  {
   "cell_type": "code",
   "execution_count": null,
   "id": "df8d8098",
   "metadata": {},
   "outputs": [],
   "source": [
    "save_dir = \"Data\"\n",
    "os.makedirs(save_dir, exist_ok=True)\n",
    "\n",
    "#Close the block underneath if you want (which is likely) to append your data to the existing dataframe\n",
    "with open(os.path.join(save_dir, \"Data_Overview.csv\"), 'w', newline='') as f:\n",
    "   writer = csv.writer(f)\n",
    "   writer.writerow(['Object','Pose_Number', 'Contact', 'Hardness_Level', 'SSIM', 'Marker_Displacement', 'Z'])"
   ]
  },
  {
   "cell_type": "markdown",
   "id": "d86d2d85",
   "metadata": {},
   "source": [
    "# 2) Contact Definition\n",
    "Based on two criteria:\n",
    "- marker displacement should be >=2\n",
    "- SSIM should be <0.96\n",
    "The combination minimizes false contacts while being sensitive to soft materials"
   ]
  },
  {
   "cell_type": "code",
   "execution_count": null,
   "id": "6565e8d9",
   "metadata": {},
   "outputs": [],
   "source": [
    "def label_markers(image_path, plot=False):\n",
    "    img = cv2.imread(image_path, cv2.IMREAD_GRAYSCALE)\n",
    "    _, binary = cv2.threshold(img, 40, 255, cv2.THRESH_BINARY_INV)\n",
    "\n",
    "    kernel = np.ones((3, 3), np.uint8)\n",
    "    cleaned = cv2.morphologyEx(binary, cv2.MORPH_OPEN, kernel, iterations=1)\n",
    "\n",
    "    # Use of connected component labelling from course of Image Processing\n",
    "    num_labels, labels, stats, centroids = cv2.connectedComponentsWithStats(cleaned, connectivity=8)\n",
    "    h, w = binary.shape\n",
    "    valid_centroids = []\n",
    "\n",
    "    for i in range(1, num_labels):  # Skip background, therefore start from 1\n",
    "        x, y, bw, bh, area = stats[i]\n",
    "        cx, cy = centroids[i]\n",
    "        cx, cy = int(cx), int(cy)\n",
    "\n",
    "        if 10 < area < 750 and 75 < x < w - 75 and 75 < y < h - 75:\n",
    "            new_centroid = np.array([cx, cy])\n",
    "            merged = False\n",
    "\n",
    "            for j, existing in enumerate(valid_centroids):\n",
    "                if np.linalg.norm(existing - new_centroid) < 20:\n",
    "                    valid_centroids[j] = (existing + new_centroid) / 2\n",
    "                    merged = True\n",
    "\n",
    "            if not merged:\n",
    "                if len(valid_centroids) != 63: #because I noticed right under has black dot possibly that should not be in there\n",
    "                    valid_centroids.append(new_centroid)\n",
    "\n",
    "    # Convert to int tuples for drawing\n",
    "    valid_centroids = [tuple(map(int, c)) for c in valid_centroids]\n",
    "\n",
    "    if plot:\n",
    "        img_debug = cv2.cvtColor(img, cv2.COLOR_GRAY2BGR)\n",
    "        for (cx, cy) in valid_centroids:\n",
    "            cv2.circle(img_debug, (cx, cy), 4, (0, 255, 0), -1)\n",
    "\n",
    "        plt.imshow(cv2.cvtColor(img_debug, cv2.COLOR_BGR2RGB))\n",
    "        plt.title(f\"Detected markers: {len(valid_centroids)}\")\n",
    "        plt.axis(\"off\")\n",
    "        plt.show()\n",
    "\n",
    "    return np.array(valid_centroids)\n",
    "\n",
    "def match_unique_pairs(centroids_ref, centroids_def, max_distance=40):\n",
    "    # Compute pairwise distance matrix\n",
    "    dist_matrix = cdist(centroids_def, centroids_ref)\n",
    "\n",
    "    # Mask out impossible matches\n",
    "    dist_matrix[dist_matrix > max_distance] = 100\n",
    "\n",
    "    # Solve assignment: linear_sum_assignment can find optimal way to assign the points while minimizing costs,\n",
    "    # This makes sure that each displaced marker is connected to its origin, and not just to the closest marker\n",
    "    # in the neighbourhood, for reference see: https://docs.scipy.org/doc/scipy/reference/generated/scipy.optimize.linear_sum_assignment.html\n",
    "    row_idx, col_idx = linear_sum_assignment(dist_matrix)\n",
    "\n",
    "    # Filter by max distance again (in case no match was acceptable)\n",
    "    valid = dist_matrix[row_idx, col_idx] < max_distance\n",
    "\n",
    "    matched_def = centroids_def[row_idx[valid]]\n",
    "    matched_ref = centroids_ref[col_idx[valid]]\n",
    "\n",
    "    return matched_ref, matched_def\n",
    "\n",
    "def calculate_marker_displacement(image_path1, image_path2):\n",
    "    centroids_ref = label_markers(image_path1)\n",
    "    centroids_def = label_markers(image_path2)\n",
    "\n",
    "    matched_ref, matched_def = match_unique_pairs(centroids_ref, centroids_def)\n",
    "\n",
    "    displacement_vectors = matched_def - matched_ref\n",
    "    magnitudes = np.linalg.norm(displacement_vectors, axis=1)\n",
    "\n",
    "    return np.mean(magnitudes)"
   ]
  },
  {
   "cell_type": "markdown",
   "id": "28ea4591",
   "metadata": {},
   "source": [
    "# 3) Get robot and camera ready"
   ]
  },
  {
   "cell_type": "code",
   "execution_count": null,
   "id": "399730e2",
   "metadata": {},
   "outputs": [],
   "source": [
    "def record_and_save_image(path):\n",
    "    cap = cv2.VideoCapture(0)\n",
    "    ret, frame = cap.read()\n",
    "    frame = cv2.resize(frame, (512, 512))\n",
    "    cv2.imwrite(path, frame)"
   ]
  },
  {
   "cell_type": "code",
   "execution_count": null,
   "id": "d3077006",
   "metadata": {},
   "outputs": [],
   "source": [
    "arm = XArmAPI('192.168.1.117')  # Replace with your robot's IP address\n",
    "arm.connect()\n",
    "arm.clean_warn()\n",
    "arm.clean_error()\n",
    "arm.motion_enable(enable=True)\n",
    "arm.set_mode(0)      # Position mode\n",
    "arm.set_state(0)     # Ready state"
   ]
  },
  {
   "cell_type": "code",
   "execution_count": null,
   "id": "4e632943",
   "metadata": {},
   "outputs": [],
   "source": [
    "initial_pose = arm.get_position()[1]\n",
    "z_init = initial_pose[2]\n",
    "arm.set_position(z=z_init, roll = 180, yaw = 90, pitch= 0 )\n",
    "print(initial_pose)"
   ]
  },
  {
   "cell_type": "code",
   "execution_count": null,
   "id": "f796fc16",
   "metadata": {},
   "outputs": [],
   "source": [
    "pose = arm.get_position()[1]"
   ]
  },
  {
   "cell_type": "markdown",
   "id": "91012c53",
   "metadata": {},
   "source": [
    "# 4) Collect Data"
   ]
  },
  {
   "cell_type": "markdown",
   "id": "2afb788a",
   "metadata": {},
   "source": []
  }
 ],
 "metadata": {
  "language_info": {
   "name": "python"
  }
 },
 "nbformat": 4,
 "nbformat_minor": 5
}
